{
  "nbformat": 4,
  "nbformat_minor": 0,
  "metadata": {
    "colab": {
      "provenance": []
    },
    "kernelspec": {
      "name": "python3",
      "display_name": "Python 3"
    },
    "language_info": {
      "name": "python"
    }
  },
  "cells": [
    {
      "cell_type": "code",
      "execution_count": null,
      "metadata": {
        "id": "240nIlG9IyPm"
      },
      "outputs": [],
      "source": [
        "## Synchronization of 3 Christoffel Words\n",
        "\n",
        "# this file will contain instructions on how to use the functions to synchronize Christoffel words of Three generators\n",
        "\n",
        "\n",
        "#necessary libraries:\n",
        "import math\n",
        "import matplotlib as mpl\n",
        "import matplotlib.pyplot as plt\n",
        "import numpy as np"
      ]
    },
    {
      "cell_type": "code",
      "source": [
        "\n",
        "def orbitize(gen,n):\n",
        "  '''orbitize: we use this function to find orbits of any generator\n",
        "  input: (generator, n = sum of list of generators)\n",
        "  output: [a single list called an orbit of a generator]'''\n",
        "  orbit = list()\n",
        "  for i in range(0,n+1):\n",
        "    orbit.append((i*gen)%n) # add elements\n",
        "  return(orbit)\n",
        "\n",
        "def christoffelWord(orbit): # takes input orbit vector\n",
        "  '''christoffelWord: we use this function to find the christoffel words for a following orbit vector\n",
        "  input: [orbit for a given generator]\n",
        "  output: [single list called the christoffel word of an orbit]'''\n",
        "\n",
        "  word = []\n",
        "  for i in range(0,len(orbit)-1):\n",
        "    if orbit[i+1]>orbit[i]:\n",
        "      word.append(0)\n",
        "    else:\n",
        "      word.append(1)\n",
        "  return(word)\n",
        "\n"
      ],
      "metadata": {
        "id": "CS8j31Jf4Peb"
      },
      "execution_count": null,
      "outputs": []
    },
    {
      "cell_type": "code",
      "source": [
        "# examples:\n",
        "# let [1,2,4] be your list of generators:\n",
        "# to obtain the orbit for generator 4:\n",
        "#orbitize(4,7)\n",
        "# [0, 4, 1, 5, 2, 6, 3, 0]\n",
        "# using that output we find the christoffel word:\n",
        "#christoffelWord([0, 4, 1, 5, 2, 6, 3, 0])\n",
        "# [0, 1, 0, 1, 0, 1, 1]"
      ],
      "metadata": {
        "id": "sM0uMQiG848d"
      },
      "execution_count": null,
      "outputs": []
    },
    {
      "cell_type": "code",
      "source": [
        "def matrixGenerator(gens):\n",
        "  '''matrixGenerator: generates the matrix of Orbits and Words using the generators.\n",
        "  input: [list of generators]\n",
        "  output: [list of orbits for each generator, list of christoffel words for each orbit]'''\n",
        "  n = sum(gens)\n",
        "  orbits = []\n",
        "\n",
        "  for gen in gens:\n",
        "    orbit = orbitize(gen,n)\n",
        "    orbits.append(orbit)\n",
        "  words = []\n",
        "  for orbit in orbits:\n",
        "    word = christoffelWord(orbit)\n",
        "    words.append(word)\n",
        "  return [orbits,words]\n",
        "\n"
      ],
      "metadata": {
        "id": "VczdmyR_4dgK"
      },
      "execution_count": null,
      "outputs": []
    },
    {
      "cell_type": "code",
      "source": [
        "# now using this function we can automate the process of finding the orbits and christoffel words\n",
        "# for the same list of generators [1,2,4]\n",
        "#matrixGenerator([1,2,4])\n",
        "# we get [orbits, words]:\n",
        "#[ [ [0, 1, 2, 3, 4, 5, 6, 0] , [0, 2, 4, 6, 1, 3, 5, 0], [0, 4, 1,  5, 2, 6, 3, 0] ], [ [0, 0, 0, 0, 0, 0, 1] , [0, 0, 0, 1, 0, 0, 1] , [0, 1, 0, 1, 0, 1, 1] ] ]"
      ],
      "metadata": {
        "id": "yMAnW7XZ9Q4k"
      },
      "execution_count": null,
      "outputs": []
    },
    {
      "cell_type": "code",
      "source": [
        "\n",
        "def VI(gens):\n",
        "  '''# VERTICAL INVARIANT FUNCTION: used to find d'''\n",
        "  n = sum(gens)\n",
        "  k = len(gens)\n",
        "  di = 0\n",
        "\n",
        "  for i in range(0,k):\n",
        "    di = di + math.gcd(gens[i],n)\n",
        "  return ((n*k)/2 - (1/2)*di)\n",
        "\n",
        "def transpose(xM):\n",
        "  '''Transpose function: transpose a matrix, list of lists.\n",
        "  input: a matrix (list of lists of equal lengths)\n",
        "  output: a transposed matrix'''\n",
        "  return([[xM[j][i] for j in range(len(xM))] for i in range(len(xM[0]))])\n",
        "\n",
        "def checkSynchro(xList):\n",
        "  '''check synchronization function: Synchronized iff all sum of cols == 1\n",
        "  input: a christoffel word matrix (list of christoffel word lists)\n",
        "  output: True or False depending on whether that list is synchronized'''\n",
        "  tList = transpose(xList)\n",
        "  for line in tList:\n",
        "    if (sum(line)) != 1:\n",
        "      return False\n",
        "  return True\n",
        "\n",
        "def shift(slist):\n",
        "  '''shift Function: shifts row by one index\n",
        "  input: any list\n",
        "  output: a right shift of the list by one index\n",
        "  example: input([1,0,0,1,0,0,1]) ----> output([1,1,0,0,1,0,0])'''\n",
        "  return (slist[-1:] + slist[:len(slist)-1])\n",
        "\n",
        "\n",
        "def shiftBy(sList,n):\n",
        "  '''shift by function: shifts list by n index\n",
        "  input: any list\n",
        "  output: right shift of the list by n index'''\n",
        "  return sList[-n:] + sList[:-n]\n",
        "\n",
        "def allShifts(word):\n",
        "  '''allShifts:\n",
        "  input: takes a word of any length\n",
        "  output: returns all the possible shifts on the word'''\n",
        "  return [shiftBy(word,i) for i in range (0,len(word))]\n",
        "\n",
        "\n",
        "def shiftOb(ob,n):\n",
        "  '''shift Orbit function: function the shifts an orbit by n iterations\n",
        "  input: an orbit list\n",
        "  output: a right shifted orbit by n indices'''\n",
        "  if n >= len(ob):\n",
        "    n = n - len(ob)\n",
        "  if n == 0:\n",
        "    return ob\n",
        "  first = ob[len(ob)-n-1:len(ob)-1]\n",
        "  last = ob[:len(ob)-n]\n",
        "  first.extend(last)\n",
        "  return first\n",
        "\n",
        "def checkFit(mat):\n",
        "  '''check Fitness function: Fit iff all sum of cols == (1 or 0)\n",
        "  input: christoffel word matrix (or any list of christoffel words)\n",
        "  output: True or False depending on whether all words fit.'''\n",
        "  for col in zip(*mat):\n",
        "    if sum(col) > 1:\n",
        "      return False\n",
        "  return True\n",
        "\n",
        "def findFits(list1,list2):\n",
        "    '''Find fits function: does it by shifting and checking for fitness at each iteration.\n",
        "    input: two lists\n",
        "    output: list of all possible fits between them (how many shifts you apply to list 2 for it to fit with list one)'''\n",
        "    fits=[]\n",
        "    mat = [list1, list2]\n",
        "    for i in range(0,len(list2)):\n",
        "      if checkFit(mat):\n",
        "        fits.append(i)\n",
        "        mat[1] = shift(mat[1])\n",
        "      else:\n",
        "        mat[1] = shift(mat[1])\n",
        "    return(fits)\n",
        "\n",
        "\n",
        "def merger(list1, list2):\n",
        "    '''merge function: merge 2 lists by summing columns\n",
        "    input: 2 lists\n",
        "    output: lists merged together by summing columns\n",
        "    example: input([[1,1,1],[0,1,2]]) ----> output([1,2,3])'''\n",
        "    return [x + y for x, y in zip(list1, list2)]\n",
        "\n",
        "\n",
        "def syncWord(mat):\n",
        "  '''syncWord(Synchronized Word function): finding the synchronized Word of a synchronized matrix\n",
        "  input: christoffel word matrix\n",
        "  output: synchronized word, Christoffel Conjugate Matrix\n",
        "  example: input - [[1,0,0],[0,1,0],[0,0,1]] ----> output - [[[1,0,0],[0,2,0],[0,0,3]], [1,2,3]]'''\n",
        "  finalMat = mat[:]\n",
        "  for i in range(0,len(mat)):\n",
        "    finalMat[i] = [i+1 if x == 1 else x for x in finalMat[i]]\n",
        "  synchronizedWord = finalMat[0]\n",
        "  for i in range(1,len(mat)):\n",
        "    synchronizedWord = merger(synchronizedWord,finalMat[i])\n",
        "  return [finalMat,synchronizedWord]\n",
        "\n",
        "\n",
        "def indexFinder(orbit,num):\n",
        "  '''indexFinder : we use this function to find the index of any number in a list.\n",
        "  this function particularly interests us to find the index of a number in the orbit given the seed\n",
        "  input:an orbit, a number\n",
        "  output: the index where that number is found'''\n",
        "  for i in range(0, len(orbit)):\n",
        "    if orbit[i]==num:\n",
        "      return i\n",
        "  return False\n",
        "\n",
        "def synchronizedForm(orbit,pos):\n",
        "  '''synchronizedForm: we use this function to transform the orbits using the relative seed (we will use the position/index of the number) circular permutaionstarting from position pos,\n",
        "  where pos can be any element of my seed vector\n",
        "  input: an orbit, an index\n",
        "  output: a shifted orbit such that we have a circular permutaionstarting from position pos\n",
        "  example: synchronizedForm([0,2,4,8,1,3,5,0],3) ---> [8, 1, 3, 5, 0, 2, 4, 8]'''\n",
        "  nl=orbit[pos:] + orbit[1:pos+1]\n",
        "  return(nl)"
      ],
      "metadata": {
        "id": "oraJarDx4szC"
      },
      "execution_count": null,
      "outputs": []
    },
    {
      "cell_type": "markdown",
      "source": [
        "# Algorithm 1: Synchronized Seed Function"
      ],
      "metadata": {
        "id": "OIsorCaZ6s3j"
      }
    },
    {
      "cell_type": "code",
      "source": [
        "\n",
        "def seedFinder(gens):\n",
        "  '''Seed finder function: finds the seed necessary to synchronize the orbits matrix.\n",
        "  specifically works for generators of lengths 2 or 3\n",
        "  input: list of generators\n",
        "  output: list of seeds for the given set of genertors'''\n",
        "\n",
        "  generators = gens[:]\n",
        "  n = sum(gens)\n",
        "  if len(gens) == 3:\n",
        "    # Checking all cases for 3 generators:\n",
        "\n",
        "    #Case 1: 3 identical generators\n",
        "    if ( gens.count(gens[0]) == len(gens) ):\n",
        "      return [0,gens[0],2*gens[0]]\n",
        "\n",
        "    # Case 2: 2 identical generator\n",
        "    elif ( len(set(gens)) != len(gens) ):\n",
        "      d = math.gcd(gens[0],gens[2])\n",
        "\n",
        "      # special case: 1\n",
        "      if (n/d)%2 == 0:\n",
        "        return [n-d,(n-2*d)/2,0]\n",
        "\n",
        "      # special case: 2\n",
        "      if (n/d)%2 != 0:\n",
        "        return [n-d,(n-d)/2,0]\n",
        "\n",
        "      # Subcase1: Sum of generators is even\n",
        "      if n%2 == 0:\n",
        "        return [n-1 , (n-2)/2 , 0]\n",
        "\n",
        "      #Subcase 2: Sum of generators is odd\n",
        "      else:\n",
        "        return [n-1, (n-1)/2, 0]\n",
        "\n",
        "    # Case 3: 3 unique generators.\n",
        "    elif (gens[0] == gens[1]/2 == gens[2]/4):\n",
        "      vi = VI(gens)\n",
        "      return [vi//3,vi//3,vi//3]\n",
        "\n",
        "    else:\n",
        "      # Case 4: Do not follow any of the seeds criteria\n",
        "      return ValueError('cannot be synchronized')\n",
        "  # Case for 2 generators\n",
        "  elif len(gens) == 2:\n",
        "    d = math.gcd(gens[0],n)\n",
        "    return [0, n-d]\n",
        "\n",
        "  # if follows non of the conditions\n",
        "  else:\n",
        "    return ValueError('Cannot be Synchronized')\n",
        "\n"
      ],
      "metadata": {
        "id": "OsLdFszA5b_2"
      },
      "execution_count": null,
      "outputs": []
    },
    {
      "cell_type": "code",
      "source": [
        "def cleanGens(generators):\n",
        "  '''cleans list of generators by sorting and removing zeros if they exist'''\n",
        "  gens = generators[:]\n",
        "  # fixing order to avoid errors:\n",
        "  gens = sorted(gens) # sorting ascending\n",
        "  gens = sorted(gens, key=gens.count, reverse=True)  # sorting key based on count/ reverse so we have (gen1,gen1,gen2) \"high count appear first\"\n",
        "  #removing 0 if it exists\n",
        "  gens = [i for i in gens if i != 0]\n",
        "  return gens"
      ],
      "metadata": {
        "id": "cCEjvT745AxR"
      },
      "execution_count": null,
      "outputs": []
    },
    {
      "cell_type": "code",
      "source": [
        "\n",
        "\n",
        "def synchronize(gens,seeds):\n",
        "  '''Synchronize function: uses the seeds to synchronize the Orbit Matrix, and words\n",
        "  Input: list of generators, list of seeds\n",
        "  output: synchronized orbit and christoffel words matrix'''\n",
        "\n",
        "  n = sum(gens)\n",
        "\n",
        "  orbits = []\n",
        "  for i in gens:\n",
        "    orbits.append(orbitize(i,n))\n",
        "\n",
        "  positions =[]\n",
        "  for i in range(0,len(orbits)):\n",
        "    positions.append(indexFinder(orbits[i],seeds[i]))\n",
        "\n",
        "  newOrbits = []\n",
        "  for i in range(0,len(orbits)):\n",
        "    newOrbits.append(synchronizedForm(orbits[i],positions[i]))\n",
        "\n",
        "  words = []\n",
        "  for i in newOrbits:\n",
        "    words.append(christoffelWord(i))\n",
        "\n",
        "  return [words,newOrbits]\n",
        "\n"
      ],
      "metadata": {
        "id": "2nTCyT086H8l"
      },
      "execution_count": null,
      "outputs": []
    },
    {
      "cell_type": "code",
      "source": [
        "\n",
        "def synchronizedSeedFunc(generators):\n",
        "  '''this function only takes list of generators of length 2,3\n",
        "  it also only accepts generators that follow the seeding criteria\n",
        "  input: a list of generators\n",
        "  Output:\n",
        "    True/False for synchronization\n",
        "    gens: are the generators in order with respect to the output word\n",
        "    words: are the synchronized matrix after using the seeds\n",
        "    synchronizedWord: is one list that consists of the row number of where each '1' exists\n",
        "    christoffelConjugateMatrix: is the same as the words but instead of having '1's were numbering them by row\n",
        "    orbits: are the orbits after applying the seeds\n",
        "    seeds: are the seeds 'first column of the orbits' used to aquire the synchronized words matrix'''\n",
        "\n",
        "  gens = cleanGens(generators)\n",
        "\n",
        "  # extracting the divisors and dividing the gens to factorize them\n",
        "  divs = math.gcd(*gens)\n",
        "  gens = [g//divs for g in gens]\n",
        "\n",
        "  #finding seed then synchronizing\n",
        "  seeds = seedFinder(gens)\n",
        "\n",
        "  # if the generators dont verify any of the conditions we return false\n",
        "  if type(seeds) == ValueError:\n",
        "    return [False,generators,seeds]\n",
        "\n",
        "  # fixing seeds and generators by multiplying by the divisors\n",
        "  seeds = [s*divs for s in seeds]\n",
        "  gens = [int(g*divs) for g in gens]\n",
        "\n",
        "  # using synchronize to fix orbits using the seeds and extracting the words.\n",
        "  result = synchronize(gens,seeds)\n",
        "  words = result[0]\n",
        "  orbits = result[1]\n",
        "\n",
        "  # extracting the synchronized word and the christoffelConjugateMatrix\n",
        "  res = syncWord(words)\n",
        "  christoffelConjugateMatrix = res[0]\n",
        "  synchronizedWord = res[1]\n",
        "\n",
        "  return [True, gens, words,synchronizedWord, christoffelConjugateMatrix, orbits, seeds]"
      ],
      "metadata": {
        "id": "89Rdxcs46jXx"
      },
      "execution_count": null,
      "outputs": []
    },
    {
      "cell_type": "code",
      "source": [
        "synchronizedSeedFunc([1,2,4])"
      ],
      "metadata": {
        "colab": {
          "base_uri": "https://localhost:8080/"
        },
        "id": "zR9ksvEqGrEI",
        "outputId": "529829af-70db-46d3-a91a-749cbaa9e7e6"
      },
      "execution_count": null,
      "outputs": [
        {
          "output_type": "execute_result",
          "data": {
            "text/plain": [
              "[True,\n",
              " [1, 2, 4],\n",
              " [[0, 0, 0, 1, 0, 0, 0], [0, 1, 0, 0, 0, 1, 0], [1, 0, 1, 0, 1, 0, 1]],\n",
              " [3, 2, 3, 1, 3, 2, 3],\n",
              " [[0, 0, 0, 1, 0, 0, 0], [0, 2, 0, 0, 0, 2, 0], [3, 0, 3, 0, 3, 0, 3]],\n",
              " [[3, 4, 5, 6, 0, 1, 2, 3],\n",
              "  [3, 5, 0, 2, 4, 6, 1, 3],\n",
              "  [3, 0, 4, 1, 5, 2, 6, 3]],\n",
              " [3.0, 3.0, 3.0]]"
            ]
          },
          "metadata": {},
          "execution_count": 17
        }
      ]
    },
    {
      "cell_type": "markdown",
      "source": [
        "# Algorithm 2: Fitness Synchronization Function"
      ],
      "metadata": {
        "id": "p5BXju2R6zm4"
      }
    },
    {
      "cell_type": "code",
      "source": [
        "\n",
        "def findAllFits(vMatrix):\n",
        "    '''findAllFits function: find fits in the words matrix in order to synchronize without the use of seeds\n",
        "    input: christoffel word matrix\n",
        "    output: if fits exist - you get a list of all possible fits.  if fits dont exist - you get false'''\n",
        "\n",
        "    # defining number of rows and#printing them\n",
        "    numRows = len(vMatrix)\n",
        "\n",
        "    ## Initializing a matrix of all Fits called \"allFits\"\n",
        "    allFits = [[]]\n",
        "    # initializing fits and col\n",
        "    currentFits=[]\n",
        "    currentCol = 1\n",
        "\n",
        "    # checking for all fits between row 0 and row 1\n",
        "    if numRows > 1:\n",
        "        firstFits = findFits(vMatrix[0], vMatrix[1])\n",
        "        if firstFits == []:\n",
        "          return [False, 'no fits found for row 1']\n",
        "        else:\n",
        "          allFits.append(firstFits)\n",
        "\n",
        "    # for more than 2 rows\n",
        "    if numRows > 2:\n",
        "\n",
        "        # list that represents fits at each row\n",
        "        numberOfFits=[]\n",
        "        # iterate on fits between row 0 and 1\n",
        "        for shiftIndex in allFits[1]:\n",
        "            # we define merge as row 0 then merge row 0 with row 1 ( shifted by fit index)\n",
        "            xMerge = vMatrix[0]\n",
        "            xMerge = merger(xMerge, shiftBy(vMatrix[1], shiftIndex))\n",
        "            # find new fits between merge row and row 2\n",
        "            xFits = findFits(xMerge, vMatrix[2])\n",
        "\n",
        "            if xFits != []:\n",
        "                numberOfFits.append([shiftIndex,xFits])\n",
        "\n",
        "        if numberOfFits == []:\n",
        "          return [False, 'no fits found at row 2']\n",
        "        else:\n",
        "          allFits.append(numberOfFits)\n",
        "\n",
        "    # loop around rows in range Row 3 to end.\n",
        "    for currentRow in range(3, numRows):\n",
        "        currentFits=[]\n",
        "        # pull all 'number of fits' from previous row\n",
        "        precFits = allFits[currentRow-1]\n",
        "\n",
        "        # extracting all fit lists and looping through them\n",
        "        # meaning extracting [x,x,x,[...]] from [[x,x,x,[...]],[x,x,x,[...]],...]\n",
        "        for fitList in precFits:\n",
        "            xMerge = vMatrix[0]\n",
        "            listIndex = fitList[:-1]\n",
        "\n",
        "            # we are taking all [x,x,x,x] from [x,x,x,x,[]] and creating\n",
        "            # the mergre using the shifts from each fitlist's listIndex\n",
        "            # goal of the next loop is to start merging the rows from the 'confirmed' fits.\n",
        "            for increment in range(0,len(listIndex)):\n",
        "                shiftIndex = listIndex[increment]\n",
        "                shiftedRow = shiftBy(vMatrix[increment+1], shiftIndex)\n",
        "                xMerge = merger(xMerge, shiftedRow)\n",
        "\n",
        "            # fitlist[-1] is the fix indices of previous row\n",
        "            # we are going to loop through each one and test fits for current row\n",
        "            for element in fitList[-1]:\n",
        "                numberOfFits = []\n",
        "                xMerge2 = xMerge[:]\n",
        "                xMerge2 = merger(xMerge2, shiftBy(vMatrix[currentRow-1], element))\n",
        "                xFits = findFits(xMerge2, vMatrix[currentRow])\n",
        "\n",
        "                if len(xFits) != 0:\n",
        "                    for elemt in listIndex:\n",
        "                        numberOfFits.append(elemt)\n",
        "                    numberOfFits.append(element)\n",
        "                    numberOfFits.append(xFits)\n",
        "                    currentFits.append(numberOfFits)\n",
        "\n",
        "        if currentFits == []: # if at any instance we dont find a single fit between any two rows, we break the function and return false 'cannot be synchronized'\n",
        "          return [False, 'No fits found']\n",
        "        else:\n",
        "          allFits.append(currentFits)\n",
        "    return(True,allFits)\n"
      ],
      "metadata": {
        "id": "fP1EkKkB6oSf"
      },
      "execution_count": null,
      "outputs": []
    },
    {
      "cell_type": "code",
      "source": [
        "def fitnessSync(gens):\n",
        "    '''final function for check of synchronization using fits\n",
        "    input: list of generators\n",
        "    output:\n",
        "    -True/False: list of generators can be synchronized or not\n",
        "    -correctShift: list of shifts applied to get synchronization\n",
        "    -workingMatrix: Synchronized Christoffel words matrix\n",
        "    -synchronizedWord: synchronized word\n",
        "    -christoffelConjugateMatrix: christoffel word matrix with the '1's changed into the row number\n",
        "    -generators: list of generators in order of the synchronized christoffel words matrix\n",
        "    -orbits: synchronized orbits matrix\n",
        "    -seeds: first column of the synchronized orbits matrix'''\n",
        "    global intialMatrix\n",
        "    generators = cleanGens(gens)\n",
        "    res =  matrixGenerator(generators)\n",
        "    initialMatrix = res[1]\n",
        "    orbits = res[0]\n",
        "\n",
        "    global nShifts\n",
        "    workingMatrix  = initialMatrix[:]\n",
        "\n",
        "    if len(initialMatrix) == 2:\n",
        "      return findAllFits(workingMatrix)\n",
        "\n",
        "    # checking for fits using the fits function\n",
        "    nFits = findAllFits(workingMatrix)\n",
        "\n",
        "    if nFits[0] == False: # if we couldn't find any fits between any 2 rows\n",
        "      return [False, 'find all fits return']\n",
        "    else:\n",
        "      nFits = nFits[1]\n",
        "\n",
        "    ## nshifts: reformatting of nFits in a way of eliminating the nested lists\n",
        "    #   since nFits will always start with an empty list then the fits for the second row\n",
        "    #   we add them manually\n",
        "    nShifts = [[0]]\n",
        "    nShifts.append(nFits[1])\n",
        "    #   then we loop through the other indices to extract our lists\n",
        "    for rowIndex in range(2,len(nFits)):\n",
        "      if nFits[rowIndex]:\n",
        "        nShifts.append(nFits[rowIndex][0])\n",
        "      else:\n",
        "        nShifts.append(nFits[rowIndex])\n",
        "\n",
        "    # after extracting the lists we take the last list\n",
        "    # our matrix is synchronized if and only if this list will contain the fits that can synchronize it\n",
        "    lastShift = nShifts[-1]\n",
        "\n",
        "    # our list is split into 2 baches [x,x,x,..,[x,x,x,...]]\n",
        "    # hence we cut it to apply shifts into the fits used to find the final row's fits\n",
        "    shBatch1 = lastShift[:len(nShifts[rowIndex])-1]\n",
        "    shBatch2 = lastShift[-1]\n",
        "\n",
        "    workingMatrix = initialMatrix[:]\n",
        "\n",
        "    #apply shifts for the previous rows\n",
        "    for row in range(0,len(shBatch1)):\n",
        "      workingMatrix[row + 1] = shiftBy(workingMatrix[row+1], shBatch1[row])\n",
        "\n",
        "    # apply shifts for the final row\n",
        "    for sht in range(0,len(shBatch2)):\n",
        "      workingMatrix[-1] = shiftBy(workingMatrix[-1], shBatch2[sht])\n",
        "\n",
        "      # if the matrix is synchronized\n",
        "      if checkSynchro(workingMatrix):\n",
        "\n",
        "        correctShift = [0] # since were not applying any shifts for our first row\n",
        "\n",
        "        for el in shBatch1:\n",
        "          correctShift.append(el) # adding shifts from the first batch\n",
        "\n",
        "        correctShift.append(shBatch2[sht]) # adding the shift applied to get the synchronized matrix\n",
        "        seeds = [0]*len(generators) # initialize seeds vector\n",
        "\n",
        "        for s in range(0,len(correctShift)):\n",
        "          orbits[s] = shiftOb(orbits[s], correctShift[s]) # apply shifts on the orbits\n",
        "          seeds[s] = orbits[s][0] # add first element from each row to get the seeds (since seeds are the first column of a matrix)\n",
        "\n",
        "        result = syncWord(workingMatrix) # we use syncWord to obtain the snychronized word and the Christoffel Conjugate Matrix\n",
        "        christoffelConjugateMatrix = result[0]\n",
        "        synchronizedWord = result[1]\n",
        "\n",
        "\n",
        "        return [True, correctShift, workingMatrix, synchronizedWord, christoffelConjugateMatrix, generators, orbits, seeds]"
      ],
      "metadata": {
        "id": "8p4I-26n6qPZ"
      },
      "execution_count": null,
      "outputs": []
    },
    {
      "cell_type": "code",
      "source": [
        "#example\n",
        "#fitnessSync([1,2,4])\n",
        "\n",
        "# True/ list of generators can be synchronized\n",
        "# correctShift: [0, 1, 3] list of shifts applied to get synchronization\n",
        "# workingMatrix: [[0, 1, 0, 1, 0, 1, 1], [1, 0, 0, 0, 1, 0, 0], [0, 0, 1, 0, 0, 0, 0]] Synchronized Christoffel words matrix\n",
        "# synchronizedWord:  [2, 1, 3, 1, 2, 1, 1]\n",
        "# christoffelConjugateMatrix: [[0, 1, 0, 1, 0, 1, 1], [2, 0, 0, 0, 2, 0, 0], [0, 0, 3, 0, 0, 0, 0]]\n",
        "# generators: [4, 2, 1] list of generators in order of the synchronized christoffel words matrix\n",
        "# orbits:  [[0, 4, 1, 5, 2, 6, 3, 0], [5, 0, 2, 4, 6, 1, 3, 5], [4, 5, 6, 0, 1, 2, 3, 4]] synchronized orbits matrix\n",
        "# seeds: [0, 5, 4] first column of the synchronized orbits matrix\n"
      ],
      "metadata": {
        "id": "uriWqX_jH69v"
      },
      "execution_count": null,
      "outputs": []
    },
    {
      "cell_type": "markdown",
      "source": [
        "# Graphical Representations:"
      ],
      "metadata": {
        "id": "5MOpBNOkKlLj"
      }
    },
    {
      "cell_type": "code",
      "source": [
        "def plotCor(xcor,ycor,word,version,c):\n",
        "  '''plotCor\n",
        "  input:\n",
        "  xcor: starting xcoordinates\n",
        "  ycor: starting ycoordinates\n",
        "  version for mapping the words\n",
        "  c for color of plot\n",
        "  output:\n",
        "  plot of the word from the initial coordinates provided'''\n",
        "  if (version != 'o'):\n",
        "    workingWord = list()\n",
        "    for el in word:\n",
        "      if el == 1:\n",
        "        workingWord.extend([0,1])\n",
        "      else:\n",
        "        workingWord.append(0)\n",
        "  else:\n",
        "    workingWord = word[:]\n",
        "\n",
        "  for el in range(0,len(workingWord)):\n",
        "    if workingWord[el] == 0: # if we have a 0, add 1 to the final x coordinate plot it then add another 1 to the initial point\n",
        "      xcor[1]+=1-el/300\n",
        "      plt.plot( xcor, ycor, '.', linestyle = '-', color = c)\n",
        "      xcor[0]+=1-el/300\n",
        "\n",
        "    else: # if we have a 1, add 1 to the final x coordinate plot it then add another 1 to the initial point\n",
        "      ycor[1]+=1-el/300\n",
        "      plt.plot( xcor, ycor, '.', linestyle = '-', color = c)\n",
        "      ycor[0]+=1-el/300\n",
        "\n",
        "def wordPlotter(word,c = 'r',shift = 0,version = 'o'):\n",
        "\n",
        "  '''this function plots a given word by\n",
        "  input:\n",
        "  word: christoffel word\n",
        "  c: color\n",
        "  shift: a shift to apply on the word\n",
        "  version:\n",
        "  old: plotting it with 0 meaning moving in the x direction and 1 meaning moving in the y direction\n",
        "  new: similiar to old but when we have a 1 map it to 0,1 so we move once in X then once in Y\n",
        "\n",
        "  output: the plot for the word'''\n",
        "\n",
        "  word = shiftBy(word, shift)\n",
        "  xcor = [0,0] # [initial x, final x]\n",
        "  ycor = [0,0] # [initial y, final y]\n",
        "  plt.plot(xcor, ycor, '.', linestyle = '-') # plot starting point\n",
        "  plotCor(xcor,ycor,word,version,c)\n",
        "\n",
        "\n",
        "def InitializePlot2D(gens, words, orbits, version, c, shift = 0):\n",
        "  '''InitializePlot2D:\n",
        "  input:\n",
        "  gens - list of generators\n",
        "  words -  christoffel word matrix\n",
        "  orbits - Orbital matrix\n",
        "  Version: 'n' or 'o'\n",
        "  c: colors used for each row of the christoffel word matrix\n",
        "  shift: shift applied\n",
        "  output: this function returns the plots with legends'''\n",
        "  # cut list of colors to size of matrix\n",
        "  c = c[0:len(words)]\n",
        "\n",
        "  #initialize the figures\n",
        "  fig = plt.figure()\n",
        "  fig.clear()\n",
        "  plt.axes().set_aspect('equal')\n",
        "\n",
        "  #plot the words\n",
        "  for i in range(0,len(words)):\n",
        "    wordPlotter(words[i],c[i],shift,version)\n",
        "\n",
        "\n",
        "  # define legend\n",
        "  lgnd = ['g' + str(i+1) for i in range(0,len(gens))]\n",
        "  plt.legend(lgnd)\n",
        "  ax = plt.gca()\n",
        "  # fix legend colors\n",
        "  leg = ax.get_legend()\n",
        "  for i in range(0,len(lgnd)):\n",
        "    leg.legendHandles[i].set_color(c[i])\n",
        "  fig = plt.gcf()\n",
        "  plt.show()\n",
        "  plt.close()\n",
        "  return fig\n",
        "'''\n",
        "# Initialize3D\n",
        "# input:\n",
        "# x: starting x coordinates\n",
        "# y: starting y coordinates\n",
        "# z: starting z coordinates\n",
        "# sw: synchronized word\n",
        "# output:\n",
        "# a 3D plot for the given synchronized word such that each row represents a dimension\n",
        "def Initialize3D(x,y,z,sw):\n",
        "  fig = plt.figure()\n",
        "  ax = fig.add_subplot(projection=\"3d\")\n",
        "  ax.set_xlabel('X')\n",
        "  ax.set_ylabel('Y')\n",
        "  ax.set_zlabel('Z')\n",
        "  ax.set_box_aspect((1, 1, 1))\n",
        "  for el in range(0,len(sw)):\n",
        "    if sw[el] == 1:\n",
        "      x[1]+=1\n",
        "      ax.scatter(x, y, z, c='red', s=15)\n",
        "      ax.plot(x, y, z, color='pink')\n",
        "      x[0]+=1\n",
        "\n",
        "    elif sw[el] == 2:\n",
        "      y[1]+=1\n",
        "      ax.scatter(x, y, z, c='red', s=15)\n",
        "      ax.plot(x, y, z, color='pink')\n",
        "      y[0]+=1\n",
        "\n",
        "    else:\n",
        "      z[1]+=1\n",
        "      ax.scatter(x, y, z, c='red', s=15)\n",
        "      ax.plot(x, y, z, color='pink')\n",
        "      z[0]+=1\n",
        "'''\n",
        "\n",
        "def getPoints(a,b,mu):\n",
        "  '''getPoints: used to get all points between the upper and lower bounds\n",
        "  input:\n",
        "  a,b: slope coordinates\n",
        "  mu: the seed being used\n",
        "  output:\n",
        "  all the points laying between the bounds'''\n",
        "\n",
        "  # define all points list: takes all possible [x,y] integer points\n",
        "  allPts = []\n",
        "  for i in range(a+b+mu):\n",
        "    for j in range(a+b+mu):\n",
        "      allPts.append([i, j])\n",
        "\n",
        "  points = list() # initialize points list: will hold points between our bounds\n",
        "  # we now loop across all the possible points\n",
        "  for test in range (0,len(allPts)):\n",
        "    # initialize x coordinate in the [x,y] from all points\n",
        "    xcor = allPts[test][0]\n",
        "    # then we calculate the upper and lower bounds for this poiny\n",
        "    yupper = (a*xcor + mu)/b\n",
        "    ylower = (a*xcor + mu - (a+b))/b\n",
        "\n",
        "    # if the y coordinate of the [x,y] were interested in falls within the bounds: we will add [x,y] to the points list\n",
        "    if allPts[test][1] <= yupper:\n",
        "      if allPts[test][1] > ylower:\n",
        "        if len(points)<=a+b:\n",
        "          points.append(allPts[test])\n",
        "  return points\n",
        "\n",
        "def getWord(points):\n",
        "  '''getWord:\n",
        "  input:\n",
        "  points: the points laying bwtween the bounds\n",
        "  output:\n",
        "  word: christoffel word generated using the points\n",
        "  '''\n",
        "  # now to extract the word from our points, we initialize a previous point: we start with the first one in the list\n",
        "  prevPts = points[0]\n",
        "\n",
        "  word = list()\n",
        "  # we then loop through the entire list\n",
        "  for i in range(0,len(points)-1):\n",
        "    # if the x is increasing we add a 0\n",
        "    if prevPts[0] < points[i+1][0]:\n",
        "      word.append(0)\n",
        "    # if the y is increasing we add a 1\n",
        "    if prevPts[1] < points[i+1][1]:\n",
        "      word.append(1)\n",
        "    # we then update the previous point\n",
        "    prevPts = points[i+1]\n",
        "  return word\n",
        "\n",
        "def plotPoints(points,a,b,mu):\n",
        "  '''plotPoints:\n",
        "  input:\n",
        "  points: the points laying between the bounds\n",
        "  a,b: the intercepts of the slope\n",
        "  mu: the seed being used\n",
        "  output:\n",
        "  a 2D plot for the given points\n",
        "  '''\n",
        "  maxPt = max(points)\n",
        "  x=np.arange(0, maxPt[0]+1, 1)\n",
        "  upperbnds = (a*x+mu)/b# -s <= ax - yb < -s+a+b ==> y<= (ax+s)/b,,,,,y>(ax+s-(a+b))/b))\n",
        "  lowerbnds = (a*x + mu - (a+b))/b\n",
        "  plt.axes().set_aspect('equal')\n",
        "  plt.plot(x, upperbnds, linestyle = '-', color='blue')\n",
        "  plt.plot(x, lowerbnds, linestyle = '-', color= 'red')\n",
        "\n",
        "  # if condition is true: we will plot all the points and connect them to one another\n",
        "  for i in range(len(points) - 1):\n",
        "    x1, y1 = points[i]\n",
        "    x2, y2 = points[i + 1]\n",
        "    plt.plot([x1, x2], [y1, y2], marker='.', color='black')\n",
        "\n",
        "  plt.show()"
      ],
      "metadata": {
        "id": "nmigTsFiMW9n"
      },
      "execution_count": null,
      "outputs": []
    },
    {
      "cell_type": "code",
      "source": [
        "def gensPlot2D(gens, cond = True, version ='o'):\n",
        "  '''gensPlot2D\n",
        "  input:\n",
        "  gens: list of generators\n",
        "  cond:\n",
        "    True = plotting the synchronized matrix\n",
        "    False = plotting the original unsynchronized christoffel words matrix\n",
        "  version:\n",
        "    old: plotting it with 0 meaning moving in the x direction and 1 meaning moving in the y direction\n",
        "    new: similiar to old but when we have a 1 map it to 0,1 so we move once in X then once in Y\n",
        "  output: a single plot with all the words'''\n",
        "\n",
        "  c = ['b', 'g', 'r']\n",
        "  n = sum(gens)\n",
        "  res = synchronizedSeedFunc(gens)\n",
        "\n",
        "  if (not res[0] or cond == False):\n",
        "    # if our matrix isnt synchronized we will plot the original words\n",
        "    print('not synchronized: plotting original words')\n",
        "    result = matrixGenerator(gens) # generating words and orbits\n",
        "    orbits, words = result\n",
        "  else:\n",
        "    print('Synchronized: plotting Synchronized words')\n",
        "    #initializing our resources\n",
        "    words = res[2]\n",
        "    seeds = res[-1]\n",
        "    orbits = res[-2]\n",
        "    sW = res[3]\n",
        "    gens = res[1]\n",
        "    print('SynchronizedWord: ',sW)\n",
        "\n",
        "  print('Generators: ', res[1])\n",
        "  # print the orbits\n",
        "  for i in range(0,len(orbits)):\n",
        "    print('orbit ',i,': ', orbits[i])\n",
        "  #print the words\n",
        "  for i in range (0,len(words)):\n",
        "    print('Word ',i,': ',words[i],' Using color: ', c[i])\n",
        "  return InitializePlot2D(gens, words, orbits, version, c)"
      ],
      "metadata": {
        "id": "oh0QA1Oe9KyB"
      },
      "execution_count": null,
      "outputs": []
    },
    {
      "cell_type": "code",
      "source": [
        "#fig = gensPlot2D([1,2,3],True,version = 'o')"
      ],
      "metadata": {
        "id": "UiHlvGR_-8k-"
      },
      "execution_count": null,
      "outputs": []
    },
    {
      "cell_type": "code",
      "source": [
        "#fig.savefig('333synchromorphism.pdf',bbox_inches='tight')"
      ],
      "metadata": {
        "id": "cISaBRLORA_g"
      },
      "execution_count": null,
      "outputs": []
    },
    {
      "cell_type": "code",
      "source": [
        "def allShiftsGensPlot(gens,cond = True, version = 'o'):\n",
        "  '''input:\n",
        "  gens: list of generators\n",
        "  cond:\n",
        "    True = plotting the synchronized matrix\n",
        "    False = plotting the original unsynchronized christoffel words matrix\n",
        "  version:\n",
        "    old: plotting it with 0 meaning moving in the x direction and 1 meaning moving in the y direction\n",
        "    new: similiar to old but when we have a 1 map it to 0,1 so we move once in X then once in Y\n",
        "  output: n ( n = sum of gens) plots with all the words with each plot having shifts applied to it (shifting each plot by i = {1,...,n})'''\n",
        "  colors = ['b', 'g', 'r', 'c', 'm', 'y', 'k', 'w']\n",
        "  c = colors[0:len(gens)]\n",
        "  n = sum(gens)\n",
        "  res = synchronizedSeedFunc(gens)\n",
        "\n",
        "  if (not res[0] or cond == False): # if our matrix isnt synchronized we will plot the original words shifted from 0 to n times\n",
        "    print('not synchronized: plotting original words')\n",
        "    result = matrixGenerator(gens) # generating words and orbits\n",
        "    words = result[1]\n",
        "    orbits = result[0]\n",
        "    print('Generators: ', gens )\n",
        "\n",
        "  else: # plotting the synchronized matrix with shifts on each index.\n",
        "    print('Synchronized: plotting Synchronized words')\n",
        "    #initializing our resources\n",
        "    words = res[2]\n",
        "    seeds = res[-1]\n",
        "    orbits = res[-2]\n",
        "    sW = res[3]\n",
        "    print('Generators: ', res[1])\n",
        "\n",
        "  for shift in range(0,n):\n",
        "    if (res[0] and cond == True):\n",
        "      sW = shiftBy(sW,shift)\n",
        "      print('SynchronizedWord: ',sW)\n",
        "\n",
        "    for i in range(0,len(words)):\n",
        "      print('Word ',i,': ', shiftBy(words[i],shift),' Using color: ', c[i],' and shift: ',shift)\n",
        "    for i in range(0,len(orbits)):\n",
        "      print('orbit ',i,': ', shiftOb(orbits[i],shift),' shifted by: ',shift)\n",
        "    InitializePlot2D(gens,words,orbits,version,c,shift)\n",
        "    print('\\n\\n')"
      ],
      "metadata": {
        "id": "4_dgNhuXlyGT"
      },
      "execution_count": null,
      "outputs": []
    },
    {
      "cell_type": "code",
      "source": [
        "#allShiftsGensPlot([1,2,4], cond = True, version = 'o')"
      ],
      "metadata": {
        "id": "J1LHIWnsAz3V"
      },
      "execution_count": null,
      "outputs": []
    },
    {
      "cell_type": "code",
      "source": [
        "'''\n",
        "# function to plot synchronized words in the third dimention.\n",
        "# input: list of generators\n",
        "# output: 3D plot where for a synchronized word\n",
        "#             1 meaning moving once in the X direction\n",
        "#             2 meaning moving once in the Y direction\n",
        "#             3 meaning moving once in the Z direction\n",
        "\n",
        "def gensPlot3D(gens):\n",
        "\n",
        "  res = synchronizedSeedFunc(gens)\n",
        "  sw = res[3]\n",
        "  print('SynchronizedWord: ',sw)\n",
        "\n",
        "  # initialize matrix\n",
        "  x,y,z = [0,0],[0,0],[0,0]\n",
        "\n",
        "  ## for each element in the synchronizedword {1,2,3}\n",
        "  # based on the number at each index {1,2,3}, we add a segment to {x,y,z}\n",
        "  Initialize3D(x,y,z,sw)\n",
        "\n",
        "  plt.show()\n",
        "'''\n"
      ],
      "metadata": {
        "id": "RG3Hq6e5oeQa",
        "colab": {
          "base_uri": "https://localhost:8080/",
          "height": 91
        },
        "outputId": "8f4782ce-d508-4cea-e36a-29fdef51cdfc"
      },
      "execution_count": null,
      "outputs": [
        {
          "output_type": "execute_result",
          "data": {
            "text/plain": [
              "\"\\n# function to plot synchronized words in the third dimention.\\n# input: list of generators\\n# output: 3D plot where for a synchronized word\\n#             1 meaning moving once in the X direction\\n#             2 meaning moving once in the Y direction\\n#             3 meaning moving once in the Z direction\\n\\ndef gensPlot3D(gens):\\n\\n  res = synchronizedSeedFunc(gens)\\n  sw = res[3]\\n  print('SynchronizedWord: ',sw)\\n\\n  # initialize matrix\\n  x,y,z = [0,0],[0,0],[0,0]\\n\\n  ## for each element in the synchronizedword {1,2,3}\\n  # based on the number at each index {1,2,3}, we add a segment to {x,y,z}\\n  Initialize3D(x,y,z,sw)\\n\\n  plt.show()\\n\""
            ],
            "application/vnd.google.colaboratory.intrinsic+json": {
              "type": "string"
            }
          },
          "metadata": {},
          "execution_count": 27
        }
      ]
    },
    {
      "cell_type": "code",
      "source": [
        "#gensPlot3D([1,2,4])"
      ],
      "metadata": {
        "id": "UJplwI33o5an"
      },
      "execution_count": null,
      "outputs": []
    },
    {
      "cell_type": "code",
      "source": [
        "#allShifts([0, 0, 1, 0, 0, 1, 0, 1])\n"
      ],
      "metadata": {
        "id": "k_7EE2ZIAhx2"
      },
      "execution_count": null,
      "outputs": []
    },
    {
      "cell_type": "code",
      "source": [
        "\n",
        "def D(a,b,mu,cond = True):\n",
        "  '''D: extracting a word from all the integer points that fall withing 2 bounds that can be found using the slope a/b\n",
        "  input: a - x coefficient,  b - y coefficient, mu = seed cond - whether you want a plot output or not\n",
        "  output: the word obtained, plot depending on the condition'''\n",
        "  n = sum([a,b])\n",
        "  words = list()\n",
        "\n",
        "  # define x vector, upper bounds, lower bounds\n",
        "  x=np.arange(0, n+mu, 1)\n",
        "\n",
        "  # Extracting the points that lay between our bounds\n",
        "  points = getPoints(a,b,mu)\n",
        "\n",
        "  # goal from this is to obtain a word from the plot that falls within the boundaries\n",
        "  word = getWord(points)\n",
        "  # we cut the word to the length were interested in (were only looking for the points that fall within n=a+b)\n",
        "  word = word[:n]\n",
        "  # we append the word we found to our list of words\n",
        "  # if the condition is True: plot the bounds\n",
        "  if cond == True:\n",
        "    plotPoints(points,a,b,mu)\n",
        "  print('Word obtained for mu ,', mu,' : ', word)\n",
        "  return word"
      ],
      "metadata": {
        "id": "hnsybuLGAkcE"
      },
      "execution_count": null,
      "outputs": []
    },
    {
      "cell_type": "code",
      "source": [
        "res = D(4,3,3, cond = True) # change condition to true to see graphs"
      ],
      "metadata": {
        "colab": {
          "base_uri": "https://localhost:8080/",
          "height": 448
        },
        "id": "P6zipA6GLEXO",
        "outputId": "2e07ca7a-798e-4d4c-b090-f20be160e384"
      },
      "execution_count": null,
      "outputs": [
        {
          "output_type": "display_data",
          "data": {
            "text/plain": [
              "<Figure size 640x480 with 1 Axes>"
            ],
            "image/png": "[encoded data removed]"
          },
          "metadata": {}
        },
        {
          "output_type": "stream",
          "name": "stdout",
          "text": [
            "Word obtained for mu , 3  :  [1, 0, 1, 0, 1, 0, 1]\n"
          ]
        }
      ]
    },
    {
      "cell_type": "code",
      "source": [
        "def gensReveillesLine(gens, mu = False):\n",
        "  '''gensReveillesLine function:\n",
        "  input: gens( list of generators ), mu( being the seed applied on the function)\n",
        "  output: list of words for each generator, plots for each word, output obtained using previous function D'''\n",
        "\n",
        "  if not mu:\n",
        "    mu = [0]*len(gens)\n",
        "\n",
        "  # define n being the sum of generators\n",
        "  n = sum(gens)\n",
        "\n",
        "  # define a and b being the slope y = ax/b for each generator\n",
        "  a = gens[:]\n",
        "  b = [0]*len(gens)\n",
        "  for i in range(0,len(gens)):\n",
        "    b[i] = n - a[i]\n",
        "\n",
        "  x=np.arange(0, n, 0.5)\n",
        "  words = list()\n",
        "\n",
        "  for i in range(0,len(gens)):\n",
        "    print('\\nfor Generator: ', gens[i])\n",
        "    # Use function D to extract the word and the plot for each generator's slope\n",
        "    word = D(a[i],b[i],mu[i])\n",
        "    words.append(word)\n",
        "    print('\\n')\n",
        "  return words"
      ],
      "metadata": {
        "id": "Xvw85Ve_sfKM"
      },
      "execution_count": null,
      "outputs": []
    },
    {
      "cell_type": "code",
      "source": [
        "gensReveillesLine([1,2,4],[3,3,3])"
      ],
      "metadata": {
        "colab": {
          "base_uri": "https://localhost:8080/",
          "height": 1000
        },
        "id": "oj0pJ-Lot8kr",
        "outputId": "7209c80b-3818-42e7-e392-f30a244cb38c"
      },
      "execution_count": null,
      "outputs": [
        {
          "output_type": "stream",
          "name": "stdout",
          "text": [
            "\n",
            "for Generator:  1\n"
          ]
        },
        {
          "output_type": "display_data",
          "data": {
            "text/plain": [
              "<Figure size 640x480 with 1 Axes>"
            ],
            "image/png": "[encoded data removed]"
          },
          "metadata": {}
        },
        {
          "output_type": "stream",
          "name": "stdout",
          "text": [
            "Word obtained for mu , 3  :  [0, 0, 0, 1, 0, 0, 0]\n",
            "\n",
            "\n",
            "\n",
            "for Generator:  2\n"
          ]
        },
        {
          "output_type": "display_data",
          "data": {
            "text/plain": [
              "<Figure size 640x480 with 1 Axes>"
            ],
            "image/png": "[encoded data removed]"
          },
          "metadata": {}
        },
        {
          "output_type": "stream",
          "name": "stdout",
          "text": [
            "Word obtained for mu , 3  :  [0, 1, 0, 0, 0, 1, 0]\n",
            "\n",
            "\n",
            "\n",
            "for Generator:  4\n"
          ]
        },
        {
          "output_type": "display_data",
          "data": {
            "text/plain": [
              "<Figure size 640x480 with 1 Axes>"
            ],
            "image/png": "[encoded data removed]"
          },
          "metadata": {}
        },
        {
          "output_type": "stream",
          "name": "stdout",
          "text": [
            "Word obtained for mu , 3  :  [1, 0, 1, 0, 1, 0, 1]\n",
            "\n",
            "\n"
          ]
        },
        {
          "output_type": "execute_result",
          "data": {
            "text/plain": [
              "[[0, 0, 0, 1, 0, 0, 0], [0, 1, 0, 0, 0, 1, 0], [1, 0, 1, 0, 1, 0, 1]]"
            ]
          },
          "metadata": {},
          "execution_count": 33
        }
      ]
    },
    {
      "cell_type": "code",
      "source": [],
      "metadata": {
        "id": "KlT2zeuRSnSK"
      },
      "execution_count": null,
      "outputs": []
    }
  ]
}